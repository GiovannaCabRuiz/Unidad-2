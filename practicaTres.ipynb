{
  "nbformat": 4,
  "nbformat_minor": 0,
  "metadata": {
    "colab": {
      "provenance": [],
      "authorship_tag": "ABX9TyMPNIk4ne478zCA0MLYvOSR",
      "include_colab_link": true
    },
    "kernelspec": {
      "name": "python3",
      "display_name": "Python 3"
    },
    "language_info": {
      "name": "python"
    }
  },
  "cells": [
    {
      "cell_type": "markdown",
      "metadata": {
        "id": "view-in-github",
        "colab_type": "text"
      },
      "source": [
        "<a href=\"https://colab.research.google.com/github/GiovannaCabRuiz/Unidad-2/blob/main/practicaTres.ipynb\" target=\"_parent\"><img src=\"https://colab.research.google.com/assets/colab-badge.svg\" alt=\"Open In Colab\"/></a>"
      ]
    },
    {
      "cell_type": "markdown",
      "source": [
        "Realizar un programa con arreglos y clases que capture los nombres de los alumnos, la calificacion 1, calificacion 2, calificacion 3 y en automatico de el promedio.\n"
      ],
      "metadata": {
        "id": "6Ig7RoFCtEby"
      }
    },
    {
      "cell_type": "code",
      "execution_count": null,
      "metadata": {
        "colab": {
          "base_uri": "https://localhost:8080/",
          "height": 263
        },
        "id": "u3Wbub19s2Lv",
        "outputId": "3b88f69e-4144-424c-b2a1-2e2d56e2b02c"
      },
      "outputs": [
        {
          "output_type": "stream",
          "name": "stdout",
          "text": [
            "Nombre: Giovanna - Promedio: 87.67\n",
            "Nombre: Luca - Promedio: 91.33\n",
            "Nombre: Viktor - Promedio: 92.67\n"
          ]
        },
        {
          "output_type": "error",
          "ename": "TypeError",
          "evalue": "Escuela.agregar_alumno() missing 4 required positional arguments: 'nombre', 'cal1', 'cal2', and 'cal3'",
          "traceback": [
            "\u001b[0;31m---------------------------------------------------------------------------\u001b[0m",
            "\u001b[0;31mTypeError\u001b[0m                                 Traceback (most recent call last)",
            "\u001b[0;32m<ipython-input-23-6ed08218c101>\u001b[0m in \u001b[0;36m<cell line: 20>\u001b[0;34m()\u001b[0m\n\u001b[1;32m     18\u001b[0m \u001b[0;34m\u001b[0m\u001b[0m\n\u001b[1;32m     19\u001b[0m \u001b[0;34m\u001b[0m\u001b[0m\n\u001b[0;32m---> 20\u001b[0;31m \u001b[0mescuela\u001b[0m\u001b[0;34m.\u001b[0m\u001b[0magregar_alumno\u001b[0m\u001b[0;34m(\u001b[0m\u001b[0;34m)\u001b[0m\u001b[0;34m\u001b[0m\u001b[0;34m\u001b[0m\u001b[0m\n\u001b[0m\u001b[1;32m     21\u001b[0m \u001b[0mescuela\u001b[0m\u001b[0;34m.\u001b[0m\u001b[0magregar_alumno\u001b[0m\u001b[0;34m\u001b[0m\u001b[0;34m\u001b[0m\u001b[0m\n\u001b[1;32m     22\u001b[0m \u001b[0mescuela\u001b[0m\u001b[0;34m.\u001b[0m\u001b[0magregar_alumno\u001b[0m\u001b[0;34m\u001b[0m\u001b[0;34m\u001b[0m\u001b[0m\n",
            "\u001b[0;31mTypeError\u001b[0m: Escuela.agregar_alumno() missing 4 required positional arguments: 'nombre', 'cal1', 'cal2', and 'cal3'"
          ]
        }
      ],
      "source": [
        "\n",
        "\n",
        "escuela.agregar_alumno(\"Giovanna Cabrera\", 85, 90, 88)\n",
        "escuela.agregar_alumno(\"Luca Vitale\", 92, 87, 95)\n",
        "escuela.agregar_alumno(\"Viktor kozlov\", 100, 80, 98)\n",
        "\n",
        "escuela.mostrar_promedios()\n",
        "\n",
        "\n",
        "\n"
      ]
    },
    {
      "cell_type": "markdown",
      "source": [
        "MENU\n",
        "1. Buscar alumno con promedio mas bajo\n",
        "2. Buscar alumno con promedio mas alto\n",
        "3. Pedir un nombre y buscar en el arreglo; si existe, imprimir el nombre y su promedio y si no exite indicar que no existe\n",
        "4. Buscar calificacion mas baja en las tres unidades, imprimimos el nombre de la persona que la obtuvo y en que unidad\n",
        "5. Buscar calificacion mas alta en las tres unidades, imprimimos el nombre de la persona que la obtuvo y en que unidad\n",
        "6. imprimimos promedio por calificacion\n"
      ],
      "metadata": {
        "id": "0m4KC95ztFEg"
      }
    },
    {
      "cell_type": "code",
      "source": [
        "class Alumno:\n",
        "    def __init__(self, nombre, cal1, cal2, cal3):\n",
        "        self.nombre = nombre\n",
        "        self.calificaciones = [cal1, cal2, cal3]\n",
        "\n",
        "    def promedio(self):\n",
        "        return sum(self.calificaciones) / len(self.calificaciones)\n",
        "\n",
        "\n",
        "alumnos = []\n",
        "\n",
        "\n",
        "alumnos.append(Alumno(\"Giovanna\", 85, 90, 88))\n",
        "alumnos.append(Alumno(\"Luca\", 92, 87, 95))\n",
        "alumnos.append(Alumno(\"Viktor\", 100, 80, 98))\n",
        "\n",
        "\n",
        "def buscarpromediobajo(alumnos):\n",
        "    alumnobajo = alumnos[0]\n",
        "    for alumno in alumnos:\n",
        "        if alumno.promedio() < alumnobajo.promedio():\n",
        "            alumnobajo = alumno\n",
        "    print(\"Alumno con promedio más bajo:\", alumnobajo.nombre, \"- Promedio:\", round(alumnobajo.promedio(), 2))\n",
        "\n",
        "\n",
        "def buscarpromedioalto(alumnos):\n",
        "    alumnoalto = alumnos[0]\n",
        "    for alumno in alumnos:\n",
        "        if alumno.promedio() > alumnoalto.promedio():\n",
        "            alumnoalto = alumno\n",
        "    print(\"Alumno con promedio más alto:\", alumnoalto.nombre, \"- Promedio:\", round(alumnoalto.promedio(), 2))\n",
        "\n",
        "\n",
        "def buscarpornombre(alumnos, nombrebuscado):\n",
        "    for alumno in alumnos:\n",
        "        if alumno.nombre.lower() == nombrebuscado.lower():\n",
        "            print(\"Alumno encontrado:\", alumno.nombre, \"- Promedio:\", round(alumno.promedio(), 2))\n",
        "            return\n",
        "    print(\"El alumno\", nombrebuscado, \"no existe.\")\n",
        "\n",
        "def buscar_calificacion_baja(alumnos):\n",
        "    calificacion_baja = alumnos[0].calificaciones[0]\n",
        "    nombre_baja = alumnos[0].nombre\n",
        "    unidad_baja = 1\n",
        "    for alumno in alumnos:\n",
        "        for idx, cal in enumerate(alumno.calificaciones):\n",
        "            if cal < calificacion_baja:\n",
        "                calificacion_baja = cal\n",
        "                nombre_baja = alumno.nombre\n",
        "                unidad_baja = idx + 1\n",
        "    print(\"Calificación más baja es\", calificacion_baja, \"de\", nombre_baja, \"en la unidad\", unidad_baja)\n",
        "\n",
        "\n",
        "def buscar_calificacion_alta(alumnos):\n",
        "    calificacion_alta = alumnos[0].calificaciones[0]\n",
        "    nombre_alta = alumnos[0].nombre\n",
        "    unidad_alta = 1\n",
        "    for alumno in alumnos:\n",
        "        for idx, cal in enumerate(alumno.calificaciones):\n",
        "            if cal > calificacion_alta:\n",
        "                calificacion_alta = cal\n",
        "                nombre_alta = alumno.nombre\n",
        "                unidad_alta = idx + 1\n",
        "    print(\"Calificación más alta es\", calificacion_alta, \"de\", nombre_alta, \"en la unidad\", unidad_alta)\n",
        "\n",
        "\n",
        "def promedio_por_calificacion(alumnos):\n",
        "    suma_calificaciones = [0, 0, 0]\n",
        "    cantidad_alumnos = len(alumnos)\n",
        "\n",
        "    for alumno in alumnos:\n",
        "        for i, cal in enumerate(alumno.calificaciones):\n",
        "            suma_calificaciones[i] += cal\n",
        "\n",
        "    print(\"Promedio por unidad:\")\n",
        "    for i, suma in enumerate(suma_calificaciones, start=1):\n",
        "        print(\"Unidad\", i, \":\", round(suma / cantidad_alumnos, 2))\n",
        "\n",
        "\n",
        "buscarpromediobajo(alumnos)\n",
        "buscarpromedioalto(alumnos)\n",
        "\n",
        "nombre_a_buscar = input(\"Ingrese el nombre del alumno a buscar: \")\n",
        "buscarpornombre(alumnos, nombre_a_buscar)\n",
        "\n",
        "buscar_calificacion_baja(alumnos)\n",
        "\n",
        "buscar_calificacion_alta(alumnos)\n",
        "\n",
        "promedio_por_calificacion(alumnos)\n",
        "\n"
      ],
      "metadata": {
        "colab": {
          "base_uri": "https://localhost:8080/"
        },
        "id": "DrrKlJ9ztFzM",
        "outputId": "30f614cc-7aa1-4399-bd85-0a54e991b237"
      },
      "execution_count": null,
      "outputs": [
        {
          "output_type": "stream",
          "name": "stdout",
          "text": [
            "Alumno con promedio más bajo: Giovanna - Promedio: 87.67\n",
            "Alumno con promedio más alto: Viktor kozlov - Promedio: 92.67\n",
            "Ingrese el nombre del alumno a buscar: Giovanna\n",
            "Alumno encontrado: Giovanna - Promedio: 87.67\n",
            "Calificación más baja es 80 de Viktor kozlov en la unidad 2\n",
            "Calificación más alta es 100 de Viktor kozlov en la unidad 1\n",
            "Promedio por unidad:\n",
            "Unidad 1 : 92.33\n",
            "Unidad 2 : 85.67\n",
            "Unidad 3 : 93.67\n"
          ]
        }
      ]
    }
  ]
}