{
  "nbformat": 4,
  "nbformat_minor": 0,
  "metadata": {
    "colab": {
      "provenance": [],
      "authorship_tag": "ABX9TyN0Wg0/ZqDFHGkskVwr5P9z",
      "include_colab_link": true
    },
    "kernelspec": {
      "name": "python3",
      "display_name": "Python 3"
    },
    "language_info": {
      "name": "python"
    }
  },
  "cells": [
    {
      "cell_type": "markdown",
      "metadata": {
        "id": "view-in-github",
        "colab_type": "text"
      },
      "source": [
        "<a href=\"https://colab.research.google.com/github/GiovannaCabRuiz/Unidad-2/blob/main/practicaArreglos.ipynb\" target=\"_parent\"><img src=\"https://colab.research.google.com/assets/colab-badge.svg\" alt=\"Open In Colab\"/></a>"
      ]
    },
    {
      "cell_type": "markdown",
      "source": [
        "MENU\n",
        "1. Buscar alumno con promedio mas bajo\n",
        "2. Buscar alumno con promedio mas alto\n",
        "3. Pedir un nombre y buscar en el arreglo; si existe, imprimir el nombre y su promedio y si no exite indicar que no existe\n",
        "4. Buscar calificacion mas baja en las tres unidades, imprimimos el nombre de la persona que la obtuvo y en que unidad\n",
        "5. Buscar calificacion mas alta en las tres unidades, imprimimos el nombre de la persona que la obtuvo y en que unidad\n",
        "6. imprimimos promedio por calificacion\n"
      ],
      "metadata": {
        "id": "Zu4Xh55A-y0Y"
      }
    },
    {
      "cell_type": "code",
      "execution_count": null,
      "metadata": {
        "colab": {
          "base_uri": "https://localhost:8080/",
          "height": 211
        },
        "id": "6VEB9_-F1RMq",
        "outputId": "7be280b4-4379-44ee-d7c2-7a235f13729e"
      },
      "outputs": [
        {
          "output_type": "error",
          "ename": "TypeError",
          "evalue": "ArreglosUno.__init__() missing 1 required positional argument: 'nombre'",
          "traceback": [
            "\u001b[0;31m---------------------------------------------------------------------------\u001b[0m",
            "\u001b[0;31mTypeError\u001b[0m                                 Traceback (most recent call last)",
            "\u001b[0;32m<ipython-input-2-aad042b6669b>\u001b[0m in \u001b[0;36m<cell line: 41>\u001b[0;34m()\u001b[0m\n\u001b[1;32m     39\u001b[0m \u001b[0;34m\u001b[0m\u001b[0m\n\u001b[1;32m     40\u001b[0m \u001b[0;34m\u001b[0m\u001b[0m\n\u001b[0;32m---> 41\u001b[0;31m \u001b[0mx\u001b[0m \u001b[0;34m=\u001b[0m \u001b[0mArreglosUno\u001b[0m\u001b[0;34m(\u001b[0m\u001b[0;34m)\u001b[0m\u001b[0;34m\u001b[0m\u001b[0;34m\u001b[0m\u001b[0m\n\u001b[0m\u001b[1;32m     42\u001b[0m \u001b[0mx\u001b[0m\u001b[0;34m.\u001b[0m\u001b[0mimprimirArreglo\u001b[0m\u001b[0;34m(\u001b[0m\u001b[0;34m)\u001b[0m\u001b[0;34m\u001b[0m\u001b[0;34m\u001b[0m\u001b[0m\n\u001b[1;32m     43\u001b[0m \u001b[0mx\u001b[0m\u001b[0;34m.\u001b[0m\u001b[0mpromedio\u001b[0m\u001b[0;34m(\u001b[0m\u001b[0;34m)\u001b[0m\u001b[0;34m\u001b[0m\u001b[0;34m\u001b[0m\u001b[0m\n",
            "\u001b[0;31mTypeError\u001b[0m: ArreglosUno.__init__() missing 1 required positional argument: 'nombre'"
          ]
        }
      ],
      "source": [
        "class Arreglosuno:\n",
        "  def __init__(self, nombre):\n",
        "    self.nombre = ''\n",
        "    self.unidadUno = [45,65,66,32,56]\n",
        "    self.unidadDos = [87,76,56,90,23]\n",
        "    self.unidadTres = [90,89,87,76,78]\n",
        "    self.nombres = ['giovanna','Luca','viktor','haize','nika']\n",
        "    self.prom = []\n",
        "\n",
        "  def promedio(self):\n",
        "    for i in range(len(self.unidadUno)):\n",
        "      suma = (self.unidadUno[i] + self.unidadDos[i] + self.unidadTres[i]) / 3\n",
        "      self.prom.append(suma)\n",
        "\n",
        "\n",
        "  def maxPromedio(self):\n",
        "    valormax = max(self.prom)\n",
        "    indice = self.prom.index(valormax)\n",
        "    print(\"el alumno con el promedio mas alto: \", self.nombres[indice])\n",
        "    print(\"el promedio mas alto: \", valormax)\n",
        "\n",
        "  def minPromedio(self):\n",
        "    valormin = min(self.prom)\n",
        "    indice = self.prom.index(valormin)\n",
        "    print(\"el alumno con el promedio mas bajo: \", self.nombres[indice])\n",
        "    print(\"el promedio mas bajo: \", valormin)\n",
        "\n",
        "\n",
        "  def imprimirArreglo(self):\n",
        "    for i in range(len(self.nombres)):\n",
        "      print(self.nombres[i],'',self.unidadUno[i],'',self.unidadDos[i],'',self.unidadTres[i],'',self.prom[i])\n",
        "\n",
        "  def pedirNombre(self):\n",
        "    buscar = input(\"ingrese el nombre del alumno que desea buscar: \")\n",
        "    for i in range(len(self.nombres)):\n",
        "      if self.nombres[i] == buscar:\n",
        "        print(self.nombres[i],'',self.unidadUno[i],'',self.unidadDos[i],'',self.unidadTres[i],'',self.prom[i])\n",
        "\n",
        "  def mincalificacion(self):\n",
        "    vm = []\n",
        "    vm.append(min(self.unidadUno))\n",
        "    vm.append(min(self.unidadDos))\n",
        "    vm.append(min(self.unidadTres))\n",
        "    print(\"la calificacion menor es: \", min(vm))\n",
        "\n",
        "\n",
        "\n",
        "\n",
        "x = Arreglosuno()\n",
        "x.imprimirArreglo()\n",
        "x.promedio()\n",
        "x.maxPromedio()\n",
        "x.minPromedio()\n",
        "x.pedirNombre()\n",
        "x.mincalificacion()\n",
        "\n",
        "\n",
        "\n",
        "# si tiene una unidad menor a 70 esta reprobrado por default"
      ]
    }
  ]
}