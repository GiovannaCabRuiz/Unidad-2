{
  "nbformat": 4,
  "nbformat_minor": 0,
  "metadata": {
    "colab": {
      "provenance": [],
      "authorship_tag": "ABX9TyOdYFxGdN8vIlF8yBKe9568",
      "include_colab_link": true
    },
    "kernelspec": {
      "name": "python3",
      "display_name": "Python 3"
    },
    "language_info": {
      "name": "python"
    }
  },
  "cells": [
    {
      "cell_type": "markdown",
      "metadata": {
        "id": "view-in-github",
        "colab_type": "text"
      },
      "source": [
        "<a href=\"https://colab.research.google.com/github/GiovannaCabRuiz/Unidad-2/blob/main/matricesDos.ipynb\" target=\"_parent\"><img src=\"https://colab.research.google.com/assets/colab-badge.svg\" alt=\"Open In Colab\"/></a>"
      ]
    },
    {
      "cell_type": "markdown",
      "source": [
        "realizar una matriz de 4 por 4, con el orden de renglon por columna, con numeros del 1 al 16 y columnas del 0 a 3 y filas de 0 a 3. Utilizando clases y for\n",
        "y ubicar en que posicion esta cada numero de la matriz\n",
        "\n",
        "       0  1  2  3\n",
        "    0  1  2  3  4\n",
        "    1  5  6  7  8\n",
        "    2  9  10 11 12\n",
        "    3  13 14 15 16"
      ],
      "metadata": {
        "id": "EkEo-Xbx8gnZ"
      }
    },
    {
      "cell_type": "code",
      "source": [
        "class Matriz:\n",
        "    def __init__(self, filas, columnas, matriz):\n",
        "        self.filas = filas\n",
        "        self.columnas = columnas\n",
        "        self.matriz = matriz\n",
        "\n",
        "    def llenarmatriz(self):\n",
        "        contador = 1\n",
        "        for i in range(self.filas):\n",
        "            for j in range(self.columnas):\n",
        "                self.matriz[i][j] = contador\n",
        "                contador += 1\n",
        "\n",
        "    def mostrarmatriz(self):\n",
        "        print(\"Matriz 4x4:\")\n",
        "        for fila in self.matriz:\n",
        "            print(fila)\n",
        "\n",
        "    def ubicarelementos(self):\n",
        "        print(\"\\nPosición de cada número:\")\n",
        "        for i in range(self.filas):\n",
        "            for j in range(self.columnas):\n",
        "                print(\"El número\", self.matriz[i][j], \"está en la posición (\", i, \",\", j, \")\")\n",
        "\n",
        "\n",
        "matrizvacia = [[0 for _ in range(4)] for _ in range(4)]\n",
        "matriz = Matriz(4, 4, matrizvacia)\n",
        "matriz.llenarmatriz()\n",
        "matriz.mostrarmatriz()\n",
        "matriz.ubicarelementos()\n"
      ],
      "metadata": {
        "colab": {
          "base_uri": "https://localhost:8080/"
        },
        "id": "j11uKYydE0ls",
        "outputId": "1aa016ed-511a-4789-f455-c08cf5e1581c"
      },
      "execution_count": null,
      "outputs": [
        {
          "output_type": "stream",
          "name": "stdout",
          "text": [
            "Matriz 4x4:\n",
            "[1, 2, 3, 4]\n",
            "[5, 6, 7, 8]\n",
            "[9, 10, 11, 12]\n",
            "[13, 14, 15, 16]\n",
            "\n",
            "Posición de cada número:\n",
            "El número 1 está en la posición ( 0 , 0 )\n",
            "El número 2 está en la posición ( 0 , 1 )\n",
            "El número 3 está en la posición ( 0 , 2 )\n",
            "El número 4 está en la posición ( 0 , 3 )\n",
            "El número 5 está en la posición ( 1 , 0 )\n",
            "El número 6 está en la posición ( 1 , 1 )\n",
            "El número 7 está en la posición ( 1 , 2 )\n",
            "El número 8 está en la posición ( 1 , 3 )\n",
            "El número 9 está en la posición ( 2 , 0 )\n",
            "El número 10 está en la posición ( 2 , 1 )\n",
            "El número 11 está en la posición ( 2 , 2 )\n",
            "El número 12 está en la posición ( 2 , 3 )\n",
            "El número 13 está en la posición ( 3 , 0 )\n",
            "El número 14 está en la posición ( 3 , 1 )\n",
            "El número 15 está en la posición ( 3 , 2 )\n",
            "El número 16 está en la posición ( 3 , 3 )\n"
          ]
        }
      ]
    },
    {
      "cell_type": "markdown",
      "source": [
        "realizar una matriz de 4 por 4 columna por renglon, con numeros del 1 al 16. utilizando clases, for y ubicar en que posicion esta cada numero de la matriz\n",
        "\n",
        "       0  1  2  3\n",
        "    0  1  5  9  13\n",
        "    1  2  6  10 14\n",
        "    2  3  7  11 15\n",
        "    3  4  8  12 16\n",
        "  \n"
      ],
      "metadata": {
        "id": "spLnkjXh-gQS"
      }
    },
    {
      "cell_type": "code",
      "source": [],
      "metadata": {
        "id": "lGS8xUZt__hp"
      },
      "execution_count": null,
      "outputs": []
    },
    {
      "cell_type": "markdown",
      "source": [
        "realizar una matriz de 4 por 4 con el orden de un espiral, con numeros del 1 al 16. Utilizando clases, for y ubicar en que posicion esta cda numero de la matriz\n",
        "\n",
        "       0  1  2  3\n",
        "    0  1  2  3  4\n",
        "    1  12 13 14 5\n",
        "    2  11 16 15 6\n",
        "    3  10 9  8  7"
      ],
      "metadata": {
        "id": "y3ODkgjtABom"
      }
    },
    {
      "cell_type": "code",
      "source": [],
      "metadata": {
        "id": "5G5BNh-gBpr6"
      },
      "execution_count": null,
      "outputs": []
    }
  ]
}