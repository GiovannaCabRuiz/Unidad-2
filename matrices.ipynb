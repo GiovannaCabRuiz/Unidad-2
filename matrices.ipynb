{
  "nbformat": 4,
  "nbformat_minor": 0,
  "metadata": {
    "colab": {
      "provenance": [],
      "authorship_tag": "ABX9TyM4l6h0xYjJGP+mlC8TnnRg",
      "include_colab_link": true
    },
    "kernelspec": {
      "name": "python3",
      "display_name": "Python 3"
    },
    "language_info": {
      "name": "python"
    }
  },
  "cells": [
    {
      "cell_type": "markdown",
      "metadata": {
        "id": "view-in-github",
        "colab_type": "text"
      },
      "source": [
        "<a href=\"https://colab.research.google.com/github/GiovannaCabRuiz/Unidad-2/blob/main/matrices.ipynb\" target=\"_parent\"><img src=\"https://colab.research.google.com/assets/colab-badge.svg\" alt=\"Open In Colab\"/></a>"
      ]
    },
    {
      "cell_type": "code",
      "execution_count": null,
      "metadata": {
        "colab": {
          "base_uri": "https://localhost:8080/"
        },
        "id": "dZROzKufybDV",
        "outputId": "77940a54-7b1f-449d-9e28-04fc7ab2175a"
      },
      "outputs": [
        {
          "output_type": "execute_result",
          "data": {
            "text/plain": [
              "[[1, 1, 1, 1, 1], [1, 1, 1, 1, 1], [1, 1, 1, 1, 1]]"
            ]
          },
          "metadata": {},
          "execution_count": 2
        }
      ],
      "source": [
        "def newMatrix(f,c,n):\n",
        "  matriz = []\n",
        "  for i in range(f):\n",
        "    a = [n]*c\n",
        "    matriz.append(a)\n",
        "  return matriz\n",
        "newMatrix(3, 5, 1)\n"
      ]
    },
    {
      "cell_type": "code",
      "source": [
        "def sumaMatriz(A,B):\n",
        "  # Obtenemos las dimensiones de la matriz\n",
        "  numFilasA = len(A)\n",
        "  numFilasB = len(B)\n",
        "  numColumnasA = len(A[0])\n",
        "  numColumnasB = len(B[0])\n",
        "\n",
        "  if numFilasA == numFilasB and numColumnasA == numColumnasB:\n",
        "    C = newMatrix(numFilasA, numColumnasA, 0) # Creamos una matriz\n",
        "    for i in range(numFilasA):\n",
        "      for j in range(numColumnasA):\n",
        "        # En la nueva matriz plasmamaos los resultados\n",
        "        C[i][j] = A[i][j] + B[i][j]\n",
        "  # Retornamos la matriz con los resultados\n",
        "  return C\n",
        "suma = sumaMatriz([[1,2,3],[7,8,9],[13,14,15]], [[4,5,6],[10,11,12],[16,17,18]])\n",
        "print(suma)\n"
      ],
      "metadata": {
        "colab": {
          "base_uri": "https://localhost:8080/"
        },
        "id": "5O5TLiqNzon_",
        "outputId": "5095e8cc-2886-4edf-da68-0e9c13bb1dd4"
      },
      "execution_count": null,
      "outputs": [
        {
          "output_type": "stream",
          "name": "stdout",
          "text": [
            "[[5, 7, 9], [17, 19, 21], [29, 31, 33]]\n"
          ]
        }
      ]
    },
    {
      "cell_type": "code",
      "source": [
        "def multiplicacionMatriz(A,B):\n",
        "  # Obtenemos las dimensiones de la matriz\n",
        "  numFilasA = len(A)\n",
        "  numFilasB = len(B)\n",
        "  numColumnasA = len(A[0])\n",
        "  numColumnasB = len(B[0])\n",
        "\n",
        "  if numFilasA == numFilasB and numColumnasA == numColumnasB:\n",
        "    C = newMatrix(numFilasA, numColumnasA, 0) # Creamos una matriz\n",
        "    for i in range(numFilasA):\n",
        "      for j in range(numColumnasA):\n",
        "        # En la nueva matriz plasmamaos los resultados\n",
        "        C[i][j] = A[i][j] * B[i][j]\n",
        "  # Retornamos la matriz con los resultados\n",
        "  return C\n",
        "multiplicacionMatriz([[1,2,3],[7,8,9],[13,14,15]], [[4,5,6],[10,11,12],[16,17,18]])\n"
      ],
      "metadata": {
        "colab": {
          "base_uri": "https://localhost:8080/"
        },
        "id": "hzrg9fox0fhZ",
        "outputId": "21f52c1b-e1f6-4caf-b0d6-305f254508ce"
      },
      "execution_count": null,
      "outputs": [
        {
          "output_type": "execute_result",
          "data": {
            "text/plain": [
              "[[4, 10, 18], [70, 88, 108], [208, 238, 270]]"
            ]
          },
          "metadata": {},
          "execution_count": 5
        }
      ]
    },
    {
      "cell_type": "code",
      "source": [
        "def show_matrix(M):\n",
        "  \"\"\" Imprime los valores almacenados en la matriz \"\"\"\n",
        "  filas = len(M)\n",
        "  columnas = len(M[0])\n",
        "  for i in range(filas):\n",
        "    for j in range(columnas):\n",
        "      # Imprime de una forma elegante la matriz\n",
        "      print(\"| {0} \".format(M[i][j]), sep=',', end='')\n",
        "    print('|n')\n",
        "a = [[1,2,3],[7,8,9],[4,5,6]]\n",
        "show_matrix(a)\n",
        "show_matrix(suma)\n",
        "\n"
      ],
      "metadata": {
        "colab": {
          "base_uri": "https://localhost:8080/"
        },
        "id": "PVoSDWWx1jOq",
        "outputId": "e5e70aa4-963d-4990-96ec-1ea36f88f0ca"
      },
      "execution_count": null,
      "outputs": [
        {
          "output_type": "stream",
          "name": "stdout",
          "text": [
            "| 1 | 2 | 3 |n\n",
            "| 7 | 8 | 9 |n\n",
            "| 4 | 5 | 6 |n\n",
            "| 5 | 7 | 9 |n\n",
            "| 17 | 19 | 21 |n\n",
            "| 29 | 31 | 33 |n\n"
          ]
        }
      ]
    }
  ]
}