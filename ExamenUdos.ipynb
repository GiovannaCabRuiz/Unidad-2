{
  "nbformat": 4,
  "nbformat_minor": 0,
  "metadata": {
    "colab": {
      "provenance": [],
      "authorship_tag": "ABX9TyNWTJj4qcqyCf+XBdk6EvMA",
      "include_colab_link": true
    },
    "kernelspec": {
      "name": "python3",
      "display_name": "Python 3"
    },
    "language_info": {
      "name": "python"
    }
  },
  "cells": [
    {
      "cell_type": "markdown",
      "metadata": {
        "id": "view-in-github",
        "colab_type": "text"
      },
      "source": [
        "<a href=\"https://colab.research.google.com/github/GiovannaCabRuiz/Unidad-2/blob/main/ExamenUdos.ipynb\" target=\"_parent\"><img src=\"https://colab.research.google.com/assets/colab-badge.svg\" alt=\"Open In Colab\"/></a>"
      ]
    },
    {
      "cell_type": "markdown",
      "source": [
        "Utilizando la funcion random() genere un arreglo de 10 numeros mayores de 100 y menores a 1000 secuencia de numeros enteros, en un segundo arreglo identifique cuales son los numeros primos y almacene cada resultado indicando 1 si es primo y 0 si no lo es."
      ],
      "metadata": {
        "id": "0bAIV4zSPNYX"
      }
    },
    {
      "cell_type": "code",
      "source": [
        "import random\n",
        "\n",
        "\n",
        "def esprimo(num):\n",
        "    if num < 2:\n",
        "        return False\n",
        "    for i in range(2, int(num ** 0.5) + 1):\n",
        "        if num % i == 0:\n",
        "            return False\n",
        "    return True\n",
        "\n",
        "\n",
        "class ArregloNumeros:\n",
        "    def __init__(self):\n",
        "        self.arnumeros = []\n",
        "        self.arprimos = []\n",
        "\n",
        "\n",
        "    def generarnumeros(self):\n",
        "        for i in range(10):\n",
        "            numero = random.randint(100, 999)\n",
        "            self.arnumeros.append(numero)\n",
        "\n",
        "\n",
        "    def verificarprimos(self):\n",
        "        for numero in self.arnumeros:\n",
        "            if esprimo(numero):\n",
        "                self.arprimos.append(1)\n",
        "            else:\n",
        "                self.arprimos.append(0)\n",
        "\n",
        "\n",
        "    def mostrararreglos(self):\n",
        "        print(\"Arreglo de números:\", self.arnumeros)\n",
        "        print(\"Arreglo de primos (1=primo, 0=no primo):\", self.arprimos)\n",
        "\n",
        "\n",
        "arreglo = ArregloNumeros()\n",
        "\n",
        "\n",
        "arreglo.generarnumeros()\n",
        "arreglo.verificarprimos()\n",
        "arreglo.mostrararreglos()\n",
        "\n"
      ],
      "metadata": {
        "colab": {
          "base_uri": "https://localhost:8080/"
        },
        "id": "v4w-KKC4YNcG",
        "outputId": "4821c53e-3f60-4a05-bf42-5ff1283bff0a"
      },
      "execution_count": null,
      "outputs": [
        {
          "output_type": "stream",
          "name": "stdout",
          "text": [
            "Arreglo de números: [828, 753, 525, 752, 602, 811, 762, 780, 927, 275]\n",
            "Arreglo de primos (1=primo, 0=no primo): [0, 0, 0, 0, 0, 1, 0, 0, 0, 0]\n"
          ]
        }
      ]
    },
    {
      "cell_type": "markdown",
      "source": [
        "Construir uno o varios arreglos que guardan los nombresy las edades de los alumnos de un curso. Se pide introduzca el nombre y la edad de cada alumno. El proceso de lectura de datos terminara cuando se introduzca como nombre un asterisco (*) Al finalizar se mostrara los siguientes datos: se imprimen los arreglos correspondientes, todos los alumnos mayores de edad, los dos alumnos mayores (los que tienen mas edad)"
      ],
      "metadata": {
        "id": "FLYfsL-DPrRE"
      }
    },
    {
      "cell_type": "code",
      "source": [
        "class Curso:\n",
        "    def __init__(self):\n",
        "        self.alumnos = []\n",
        "\n",
        "        while True:\n",
        "            nombre = input(\"Introduzca el nombre del alumno (o '*' para terminar): \")\n",
        "            if nombre == '*':\n",
        "                break\n",
        "            edad = int(input(\"Introduzca la edad del alumno: \"))\n",
        "            self.alumnos.append((nombre, edad))\n",
        "\n",
        "        self.mostraralumnos()\n",
        "        self.alumnosmayoresedad()\n",
        "        self.dosalumnosmayores()\n",
        "\n",
        "    def mostraralumnos(self):\n",
        "        print(\"Lista de alumnos:\")\n",
        "        for nombre, edad in self.alumnos:\n",
        "            print(\"Nombre: \" + nombre + \", Edad: \" + str(edad))\n",
        "\n",
        "    def alumnosmayoresedad(self):\n",
        "        print(\"\\nAlumnos mayores de edad:\")\n",
        "        for nombre, edad in self.alumnos:\n",
        "            if edad >= 18:\n",
        "                print(\"Nombre: \" + nombre + \", Edad: \" + str(edad))\n",
        "\n",
        "    def dosalumnosmayores(self):\n",
        "        if len(self.alumnos) < 2:\n",
        "            print(\"\\nNo hay suficientes alumnos para determinar los dos mayores.\")\n",
        "            return\n",
        "\n",
        "\n",
        "        mayor1 = mayor2 = (\"\", 0)\n",
        "\n",
        "        for nombre, edad in self.alumnos:\n",
        "            if edad > mayor1[1]:\n",
        "                mayor2 = mayor1\n",
        "                mayor1 = (nombre, edad)\n",
        "            elif edad > mayor2[1]:\n",
        "                mayor2 = (nombre, edad)\n",
        "\n",
        "        print(\"\\nLos dos alumnos mayores son:\")\n",
        "        print(\"Nombre: \" + mayor1[0] + \", Edad: \" + str(mayor1[1]))\n",
        "        print(\"Nombre: \" + mayor2[0] + \", Edad: \" + str(mayor2[1]))\n",
        "\n",
        "\n",
        "curso = Curso()\n"
      ],
      "metadata": {
        "colab": {
          "base_uri": "https://localhost:8080/"
        },
        "id": "F_OLAp77QbaI",
        "outputId": "e2c8aa9c-37a2-451c-97d4-115a33f1e17c"
      },
      "execution_count": null,
      "outputs": [
        {
          "output_type": "stream",
          "name": "stdout",
          "text": [
            "Introduzca el nombre del alumno (o '*' para terminar): gio\n",
            "Introduzca la edad del alumno: 32\n",
            "Introduzca el nombre del alumno (o '*' para terminar): hugo\n",
            "Introduzca la edad del alumno: 45\n",
            "Introduzca el nombre del alumno (o '*' para terminar): maria\n",
            "Introduzca la edad del alumno: 23\n",
            "Introduzca el nombre del alumno (o '*' para terminar): jona\n",
            "Introduzca la edad del alumno: 21\n",
            "Introduzca el nombre del alumno (o '*' para terminar): *\n",
            "Lista de alumnos:\n",
            "Nombre: gio, Edad: 32\n",
            "Nombre: hugo, Edad: 45\n",
            "Nombre: maria, Edad: 23\n",
            "Nombre: jona, Edad: 21\n",
            "\n",
            "Alumnos mayores de edad:\n",
            "Nombre: gio, Edad: 32\n",
            "Nombre: hugo, Edad: 45\n",
            "Nombre: maria, Edad: 23\n",
            "Nombre: jona, Edad: 21\n",
            "\n",
            "Los dos alumnos mayores son:\n",
            "Nombre: hugo, Edad: 45\n",
            "Nombre: gio, Edad: 32\n"
          ]
        }
      ]
    },
    {
      "cell_type": "markdown",
      "source": [
        "De una empresa de transportes se quiere guardar el nombre de los conductores que tiene, y los kilometros que conducen cada dia de la semana. Para guardar esta informacion se van a utilizar dos arreglos: Nombre: vector para guargar los nombres de los condusctores.kms: Tabla para guardar los kilometros que realizan cada dia de la semana. Se quiere generar un nuevo vector (\"totak_kms\") con los kilometros totales que realza cada conductor. AL finalizar se muestra la lista con los nombres de conductores y kilometros que ha realizado"
      ],
      "metadata": {
        "id": "Ui6XpVDbQcEE"
      }
    },
    {
      "cell_type": "code",
      "source": [
        "class Transportes:\n",
        "    def __init__(self):\n",
        "        self.nombres = []\n",
        "        self.kms = []\n",
        "        self.total_kms = []\n",
        "\n",
        "    def agregarconductor(self, nombre):\n",
        "        self.nombres.append(nombre)\n",
        "\n",
        "        kms_dia = []\n",
        "        for dia in range(7):\n",
        "            km = float(input(\"Ingrese los kilómetros conducidos por \" + nombre + \" el día \" + str(dia + 1) + \": \"))\n",
        "            kms_dia.append(km)\n",
        "        self.kms.append(kms_dia)\n",
        "\n",
        "    def calculartotales(self):\n",
        "        for kms_dia in self.kms:\n",
        "            total = sum(kms_dia)\n",
        "            self.total_kms.append(total)\n",
        "\n",
        "    def mostrarresultados(self):\n",
        "        print(\"\\nResumen de conductores y kilómetros recorridos:\")\n",
        "        for i in range(len(self.nombres)):\n",
        "            print(\"Conductor: \" + self.nombres[i] + \", Total km: \" + str(self.total_kms[i]))\n",
        "\n",
        "\n",
        "empresatransportes = Transportes()\n",
        "\n",
        "\n",
        "while True:\n",
        "    nombre = input(\"Introduzca el nombre del conductor (o '*' para terminar): \")\n",
        "    if nombre == '*':\n",
        "        break\n",
        "    empresatransportes.agregarconductor(nombre)\n",
        "\n",
        "empresatransportes.calculartotales()\n",
        "empresatransportes.mostrarresultados()\n",
        "\n"
      ],
      "metadata": {
        "colab": {
          "base_uri": "https://localhost:8080/"
        },
        "id": "BK-7nU6LRYtq",
        "outputId": "88eefda4-8fea-400e-efe5-caf09065cf35"
      },
      "execution_count": null,
      "outputs": [
        {
          "output_type": "stream",
          "name": "stdout",
          "text": [
            "Introduzca el nombre del conductor (o '*' para terminar): giovanna\n",
            "Ingrese los kilómetros conducidos por giovanna el día 1: 43\n",
            "Ingrese los kilómetros conducidos por giovanna el día 2: 46\n",
            "Ingrese los kilómetros conducidos por giovanna el día 3: 45\n",
            "Ingrese los kilómetros conducidos por giovanna el día 4: 86\n",
            "Ingrese los kilómetros conducidos por giovanna el día 5: 42\n",
            "Ingrese los kilómetros conducidos por giovanna el día 6: 78\n",
            "Ingrese los kilómetros conducidos por giovanna el día 7: 798\n",
            "Introduzca el nombre del conductor (o '*' para terminar): *\n",
            "\n",
            "Resumen de conductores y kilómetros recorridos:\n",
            "Conductor: giovanna, Total km: 1138.0\n"
          ]
        }
      ]
    },
    {
      "cell_type": "markdown",
      "source": [
        "Se desea construir un programa para una maquina de refrescos con 5 tipos de refresco. Genere un programa que contabilice la cantidad de refrescos comprados por cada tipo de refresco, capturar la cantidad pagada y guardar el cambio devuelto al comprador tomando en cuneta que la maquina maneje moneda de $10, $5 y $1. El sistema puede imprimir los arreglos correspondientes a la cantidad de producto vendido cantidad cobrada por producto y cambio otorgado en la compra."
      ],
      "metadata": {
        "id": "ldubIjK2RZzN"
      }
    },
    {
      "cell_type": "code",
      "source": [
        "# prompt: Se desea construir un programa para una maquina de refrescos con 5 tipos de refresco. Genere un programa que contabilice la cantidad de refrescos comprados por cada tipo de refresco, capturar la cantidad pagada y guardar el cambio devuelto al comprador tomando en cuneta que la maquina maneje moneda de  10, 5 y $1. El sistema puede imprimir los arreglos correspondientes a la cantidad de producto vendido cantidad cobrada por producto y cambio otorgado en la compra.\n",
        "\n",
        "class MaquinaRefrescos:\n",
        "    def __init__(self):\n",
        "        self.tipos_refresco = [\"Coca-Cola\", \"Pepsi\", \"Sprite\", \"Fanta\", \"7Up\"]\n",
        "        self.cantidad_vendida = [0] * len(self.tipos_refresco)\n",
        "        self.cantidad_cobrada = [0] * len(self.tipos_refresco)\n",
        "        self.cambio_devuelto = []\n",
        "\n",
        "    def comprar_refresco(self):\n",
        "        print(\"\\nTipos de refresco disponibles:\")\n",
        "        for i, refresco in enumerate(self.tipos_refresco):\n",
        "            print(f\"{i+1}. {refresco}\")\n",
        "\n",
        "        try:\n",
        "            opcion = int(input(\"Seleccione el tipo de refresco (1-5): \")) - 1\n",
        "            if not 0 <= opcion < len(self.tipos_refresco):\n",
        "                raise ValueError\n",
        "        except ValueError:\n",
        "            print(\"Opción inválida.\")\n",
        "            return\n",
        "\n",
        "        try:\n",
        "            precio = float(input(f\"Ingrese el precio del {self.tipos_refresco[opcion]}: \"))\n",
        "            cantidad_pagada = float(input(\"Ingrese la cantidad pagada: \"))\n",
        "        except ValueError:\n",
        "            print(\"Entrada inválida. Ingrese números.\")\n",
        "            return\n",
        "\n",
        "        self.cantidad_vendida[opcion] += 1\n",
        "        self.cantidad_cobrada[opcion] += precio\n",
        "        cambio = cantidad_pagada - precio\n",
        "\n",
        "        if cambio < 0:\n",
        "            print(\"Cantidad pagada insuficiente.\")\n",
        "            self.cantidad_vendida[opcion] -=1\n",
        "            self.cantidad_cobrada[opcion] -= precio\n",
        "            return\n",
        "\n",
        "        self.cambio_devuelto.append(self.calcular_cambio(cambio))\n",
        "        print(f\"Cambio devuelto: {self.cambio_devuelto[-1]}\")\n",
        "\n",
        "    def calcular_cambio(self, cambio):\n",
        "        monedas = [10, 5, 1]\n",
        "        cambio_devuelto = {}\n",
        "        for moneda in monedas:\n",
        "            cantidad_monedas = int(cambio // moneda)\n",
        "            if cantidad_monedas > 0:\n",
        "                cambio_devuelto[moneda] = cantidad_monedas\n",
        "                cambio %= moneda\n",
        "        return cambio_devuelto\n",
        "\n",
        "    def mostrar_resumen(self):\n",
        "        print(\"\\n--- Resumen de ventas ---\")\n",
        "        print(\"Tipo de refresco\\tCantidad vendida\\tCantidad cobrada\")\n",
        "        for i in range(len(self.tipos_refresco)):\n",
        "            print(f\"{self.tipos_refresco[i]}\\t\\t{self.cantidad_vendida[i]}\\t\\t\\t${self.cantidad_cobrada[i]:.2f}\")\n",
        "\n",
        "        print(\"\\n--- Cambios devueltos ---\")\n",
        "        for i, cambio in enumerate(self.cambio_devuelto):\n",
        "            print(f\"Venta {i+1}: {cambio}\")\n",
        "\n",
        "maquina = MaquinaRefrescos()\n",
        "\n",
        "while True:\n",
        "    maquina.comprar_refresco()\n",
        "    continuar = input(\"¿Desea realizar otra compra? (s/n): \")\n",
        "    if continuar.lower() != 's':\n",
        "        break\n",
        "\n",
        "maquina.mostrar_resumen()"
      ],
      "metadata": {
        "id": "vMT_ROojgsSZ"
      },
      "execution_count": null,
      "outputs": []
    }
  ]
}